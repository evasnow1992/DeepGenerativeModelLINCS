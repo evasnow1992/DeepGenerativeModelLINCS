{
 "cells": [
  {
   "cell_type": "markdown",
   "metadata": {},
   "source": [
    "# Drug gene target prediction handle"
   ]
  },
  {
   "cell_type": "code",
   "execution_count": 1,
   "metadata": {},
   "outputs": [],
   "source": [
    "from __future__ import division\n",
    "import operator\n",
    "import collections\n",
    "import numpy as np\n",
    "import pandas as pd\n",
    "import cmapPy as cp\n",
    "from cmapPy.pandasGEXpress.parse import parse\n",
    "import torch\n",
    "from torch import nn\n",
    "import torch.nn.functional as F\n",
    "from torch.autograd import Variable\n",
    "from torch.utils import data as Tdata\n",
    "from sklearn.neighbors import NearestNeighbors"
   ]
  },
  {
   "cell_type": "markdown",
   "metadata": {},
   "source": [
    "## 1. Load and prepare data"
   ]
  },
  {
   "cell_type": "markdown",
   "metadata": {},
   "source": [
    "Major cell lines that contain over 10,000 samples from GSE70138 and GSE106127."
   ]
  },
  {
   "cell_type": "code",
   "execution_count": 2,
   "metadata": {},
   "outputs": [],
   "source": [
    "cellLineNameSM = set([\"A375\", \"HA1E\", \"HELA\", \"HT29\", \"MCF7\", \"PC3\", \"YAPC\"])\n",
    "cellLineNameGP = set([\"A375\", \"A549\", \"HA1E\", \"HCC515\", \"HEPG2\", \"HT29\", \"MCF7\", \"PC3\", \"VCAP\"])"
   ]
  },
  {
   "cell_type": "markdown",
   "metadata": {},
   "source": [
    "### 1.1. Load GSE70138 small molecular L1000 data"
   ]
  },
  {
   "cell_type": "markdown",
   "metadata": {},
   "source": [
    "#### 1.1.1. Load signature metadata"
   ]
  },
  {
   "cell_type": "code",
   "execution_count": 3,
   "metadata": {},
   "outputs": [
    {
     "name": "stdout",
     "output_type": "stream",
     "text": [
      "(118050, 8)\n",
      "(85183, 8)\n"
     ]
    }
   ],
   "source": [
    "sigFileNameSM = \"../Data/L1000/GSE70138_Broad_LINCS_sig_info_2017-03-06.txt\"\n",
    "sigInfoSM = pd.read_csv(sigFileNameSM, sep = \"\\t\")\n",
    "cellLineInfoSM = sigInfoSM[sigInfoSM[\"cell_id\"].isin(cellLineNameSM)]\n",
    "cellLineSigSM = cellLineInfoSM[\"sig_id\"]\n",
    "cellLinePertSM = cellLineInfoSM[\"pert_iname\"]\n",
    "cellLinePertTypeSM = cellLineInfoSM[\"pert_type\"]\n",
    "print(sigInfoSM.shape)\n",
    "print(cellLineInfoSM.shape)"
   ]
  },
  {
   "cell_type": "code",
   "execution_count": 4,
   "metadata": {},
   "outputs": [
    {
     "name": "stdout",
     "output_type": "stream",
     "text": [
      "The number of perturbagens: 1769\n"
     ]
    }
   ],
   "source": [
    "pertDicSM = {}\n",
    "pertArraySM = cellLinePertSM.values\n",
    "for i in range(len(pertArraySM)):\n",
    "    pertSM = pertArraySM[i]\n",
    "    c = pertDicSM.setdefault(pertSM, 0)\n",
    "    pertDicSM[pertSM] = c + 1\n",
    "print(\"The number of perturbagens: \" + str(len(pertDicSM)))"
   ]
  },
  {
   "cell_type": "markdown",
   "metadata": {},
   "source": [
    "#### 1.1.2. Load gene information"
   ]
  },
  {
   "cell_type": "code",
   "execution_count": 5,
   "metadata": {},
   "outputs": [
    {
     "name": "stdout",
     "output_type": "stream",
     "text": [
      "(12328, 5)\n",
      "(978,)\n"
     ]
    }
   ],
   "source": [
    "geneFileNameSM = \"../Data/L1000/GSE70138_Broad_LINCS_gene_info_2017-03-06.txt\"\n",
    "geneInfoSM = pd.read_csv(geneFileNameSM, sep = \"\\t\")\n",
    "lmInfoSM = geneInfoSM[\"pr_gene_id\"][geneInfoSM[\"pr_is_lm\"] == 1].astype(str) # landmark genes only\n",
    "print(geneInfoSM.shape)\n",
    "print(lmInfoSM.shape)"
   ]
  },
  {
   "cell_type": "markdown",
   "metadata": {},
   "source": [
    "#### 1.1.3. Load and process all L1000 data"
   ]
  },
  {
   "cell_type": "code",
   "execution_count": 6,
   "metadata": {},
   "outputs": [
    {
     "name": "stdout",
     "output_type": "stream",
     "text": [
      "(978, 85183)\n",
      "10.0000019073\n",
      "-10.0000019073\n"
     ]
    }
   ],
   "source": [
    "L1000FileNameSM = \"../Data/L1000/GSE70138_Broad_LINCS_Level5_COMPZ_n118050x12328_2017-03-06.gctx\"\n",
    "gctoo_cellLineSM = parse(L1000FileNameSM, cid = cellLineSigSM, rid = lmInfoSM)\n",
    "print(gctoo_cellLineSM.data_df.shape)\n",
    "print(max(gctoo_cellLineSM.data_df.max()))\n",
    "print(min(gctoo_cellLineSM.data_df.min()))"
   ]
  },
  {
   "cell_type": "code",
   "execution_count": 7,
   "metadata": {},
   "outputs": [],
   "source": [
    "expDataSM = torch.Tensor(gctoo_cellLineSM.data_df.transpose().values.astype(np.float32))\n",
    "expDatasetSM = Tdata.TensorDataset(expDataSM)"
   ]
  },
  {
   "cell_type": "markdown",
   "metadata": {},
   "source": [
    "### 1.2. Load GSE106127 genetic perturbagen L1000 data"
   ]
  },
  {
   "cell_type": "markdown",
   "metadata": {},
   "source": [
    "#### 1.2.1. Load signature metadata"
   ]
  },
  {
   "cell_type": "code",
   "execution_count": 8,
   "metadata": {},
   "outputs": [
    {
     "name": "stdout",
     "output_type": "stream",
     "text": [
      "(119013, 11)\n",
      "(116782, 11)\n"
     ]
    }
   ],
   "source": [
    "sigFileNameGP = \"../Data/L1000/GSE106127_sig_info.txt\"\n",
    "sigInfoGP = pd.read_csv(sigFileNameGP, sep = \"\\t\")\n",
    "cellLineInfoGP = sigInfoGP[sigInfoGP[\"cell_id\"].isin(cellLineNameGP)]\n",
    "cellLineSigGP = cellLineInfoGP[\"sig_id\"]\n",
    "cellLinePertGP = cellLineInfoGP[\"pert_iname\"]\n",
    "cellLinePertTypeGP = cellLineInfoGP[\"pert_type\"]\n",
    "print(sigInfoGP.shape)\n",
    "print(cellLineInfoGP.shape)"
   ]
  },
  {
   "cell_type": "code",
   "execution_count": 9,
   "metadata": {},
   "outputs": [
    {
     "name": "stdout",
     "output_type": "stream",
     "text": [
      "The number of perturbagens: 4314\n"
     ]
    }
   ],
   "source": [
    "pertDicGP = {}\n",
    "pertArrayGP = cellLinePertGP.values\n",
    "for i in range(len(pertArrayGP)):\n",
    "    pertGP = pertArrayGP[i]\n",
    "    c = pertDicGP.setdefault(pertGP, 0)\n",
    "    pertDicGP[pertGP] = c + 1\n",
    "print(\"The number of perturbagens: \" + str(len(pertDicGP)))"
   ]
  },
  {
   "cell_type": "markdown",
   "metadata": {},
   "source": [
    "#### 1.2.2. Load and process L1000 data"
   ]
  },
  {
   "cell_type": "code",
   "execution_count": 10,
   "metadata": {},
   "outputs": [
    {
     "name": "stdout",
     "output_type": "stream",
     "text": [
      "(978, 116782)\n",
      "10.0000019073\n",
      "-10.0000009537\n"
     ]
    }
   ],
   "source": [
    "L1000FileNameGP = \"../Data/L1000/GSE106127_level_5_modz_n119013x978.gctx\"\n",
    "gctoo_cellLineGP = parse(L1000FileNameGP, cid = cellLineSigGP, rid = lmInfoSM)\n",
    "gctoo_cellLineGP.data_df = gctoo_cellLineGP.data_df.reindex(gctoo_cellLineSM.data_df.index) # reindex to same order of genes\n",
    "print(gctoo_cellLineGP.data_df.shape)\n",
    "print(max(gctoo_cellLineGP.data_df.max()))\n",
    "print(min(gctoo_cellLineGP.data_df.min()))"
   ]
  },
  {
   "cell_type": "code",
   "execution_count": 11,
   "metadata": {},
   "outputs": [],
   "source": [
    "expDataGP = torch.Tensor(gctoo_cellLineGP.data_df.transpose().values.astype(np.float32))\n",
    "expDatasetGP = Tdata.TensorDataset(expDataGP)"
   ]
  },
  {
   "cell_type": "markdown",
   "metadata": {},
   "source": [
    "## 2. Drug gene target prediction"
   ]
  },
  {
   "cell_type": "markdown",
   "metadata": {},
   "source": [
    "### 2.1. Load the SMGP trained VAE model"
   ]
  },
  {
   "cell_type": "code",
   "execution_count": 12,
   "metadata": {},
   "outputs": [],
   "source": [
    "VAE_encoder = torch.load(\"NN_model_multiCellLine/VAE_encode_both_train_All.pth\")\n",
    "VAE_decoder = torch.load(\"NN_model_multiCellLine/VAE_decode_both_train_All.pth\")\n",
    "VAE_mu = torch.load(\"NN_model_multiCellLine/VAE_mu_both_train_All.pth\")\n",
    "sigNodeArray = np.array([4, 21, 35, 50, 51, 54, 56, 76, 81, 85, 87, 97])"
   ]
  },
  {
   "cell_type": "markdown",
   "metadata": {},
   "source": [
    "### 2.2. Drugs of interest and their ground truth targets"
   ]
  },
  {
   "cell_type": "code",
   "execution_count": 13,
   "metadata": {},
   "outputs": [],
   "source": [
    "chemGeneDic = {\n",
    "    'bortezomib': set(['PSMA1','PSMA3','PSMA5','PSMA8','PSMB1','PSMB10','PSMB5','PSMB7']),\n",
    "    'pitavastatin': set(['HMGCR']),\n",
    "}\n",
    "useLayer = 'e3' # choose from 'r', 'e1', 'e2', 'e3', 'sig', 'd1', 'd2'"
   ]
  },
  {
   "cell_type": "code",
   "execution_count": 14,
   "metadata": {},
   "outputs": [],
   "source": [
    "geneSet = set()\n",
    "for drug in chemGeneDic:\n",
    "    for gene in chemGeneDic[drug]:\n",
    "        geneSet.add(gene)"
   ]
  },
  {
   "cell_type": "markdown",
   "metadata": {},
   "source": [
    "### 2.3. Check availability of drugs and genes in the dataset"
   ]
  },
  {
   "cell_type": "code",
   "execution_count": 15,
   "metadata": {},
   "outputs": [
    {
     "name": "stdout",
     "output_type": "stream",
     "text": [
      "('Drugs that are available in the dataset:', set(['pitavastatin', 'bortezomib']))\n",
      "('Genes that are available in the dataset:', set(['PSMB10', 'PSMA3', 'PSMA1', 'HMGCR', 'PSMA5', 'PSMB7', 'PSMA8', 'PSMB5', 'PSMB1']))\n"
     ]
    }
   ],
   "source": [
    "validDrugSet = set()\n",
    "validGeneSet = set()\n",
    "for drug in chemGeneDic:\n",
    "    if drug in pertDicSM:\n",
    "        validDrugSet.add(drug)\n",
    "for gene in geneSet:\n",
    "    if gene in pertDicGP:\n",
    "        validGeneSet.add(gene)\n",
    "print(\"Drugs that are available in the dataset:\", validDrugSet)\n",
    "print(\"Genes that are available in the dataset:\", validGeneSet)"
   ]
  },
  {
   "cell_type": "code",
   "execution_count": 16,
   "metadata": {},
   "outputs": [
    {
     "name": "stdout",
     "output_type": "stream",
     "text": [
      "The drugs to be searched and their known targets:\n",
      "{'pitavastatin': set(['HMGCR']), 'bortezomib': set(['PSMB10', 'PSMA3', 'PSMA1', 'PSMA5', 'PSMB7', 'PSMA8', 'PSMB5', 'PSMB1'])}\n"
     ]
    }
   ],
   "source": [
    "validChemGeneDic = {}\n",
    "for drug in chemGeneDic:\n",
    "    if drug not in validDrugSet:\n",
    "        continue\n",
    "    validGenes = [gene for gene in chemGeneDic[drug] if gene in validGeneSet]\n",
    "    if len(validGenes) == 0:\n",
    "        continue\n",
    "    validChemGeneDic[drug] = set(validGenes)\n",
    "print(\"The drugs to be searched and their known targets:\")\n",
    "print(validChemGeneDic)"
   ]
  },
  {
   "cell_type": "code",
   "execution_count": 17,
   "metadata": {},
   "outputs": [],
   "source": [
    "validGeneChemDic = collections.defaultdict(set)\n",
    "for drug in validChemGeneDic:\n",
    "    for gene in validChemGeneDic[drug]:\n",
    "        validGeneChemDic[gene].add(drug)"
   ]
  },
  {
   "cell_type": "markdown",
   "metadata": {},
   "source": [
    "### 2.4. Drug-target prediction with a representation type"
   ]
  },
  {
   "cell_type": "code",
   "execution_count": 18,
   "metadata": {},
   "outputs": [
    {
     "name": "stdout",
     "output_type": "stream",
     "text": [
      "('The total number of gene knock down samples to be compared with:', 116782)\n",
      "\n",
      "('Drug:', 'pitavastatin')\n",
      "('The number of samples this drug tested on:', 42)\n",
      "('The top10 ranks of top ranked target genes:', [0, 10, 12, 18, 22, 50, 54, 55, 56, 71])\n",
      "('The mean ranks of top ranked target genes:', 806.81)\n",
      "\n",
      "('Drug:', 'bortezomib')\n",
      "('The number of samples this drug tested on:', 2339)\n",
      "('The top10 ranks of top ranked target genes:', [0, 0, 0, 0, 0, 0, 0, 0, 0, 0])\n",
      "('The mean ranks of top ranked target genes:', 65.691)\n",
      "\n"
     ]
    }
   ],
   "source": [
    "nNei = expDataGP.shape[0]\n",
    "print(\"The total number of gene knock down samples to be compared with:\", nNei)\n",
    "print(\"\")\n",
    "for drug in validChemGeneDic:\n",
    "    infoDrug = cellLineInfoSM[cellLineInfoSM[\"pert_iname\"] == drug]\n",
    "    indexList = []\n",
    "    drugSig = infoDrug[\"sig_id\"]\n",
    "    drugData = parse(L1000FileNameSM, cid = drugSig, rid = lmInfoSM)\n",
    "    drugData = drugData.data_df.transpose().values.astype(np.float32)\n",
    "    \n",
    "    if useLayer == \"e1\": # Encoder layer 1\n",
    "        h = VAE_encoder[1](VAE_encoder[0](torch.Tensor(drugData)))\n",
    "    elif useLayer == \"e2\": # Encoder layer 2\n",
    "        h = VAE_encoder(torch.Tensor(drugData))\n",
    "    elif useLayer == \"e3\": # Top hidden layer\n",
    "        h = VAE_encoder(torch.Tensor(drugData))\n",
    "        h = VAE_mu(h)\n",
    "    elif useLayer == \"sig\": # Signature nodes\n",
    "        h = VAE_encoder(torch.Tensor(drugData))\n",
    "        h = VAE_mu(h)\n",
    "        h = h [:,sigNodeArray]\n",
    "    elif useLayer == \"d1\": # Decoder layer 1\n",
    "        h = VAE_encoder(torch.Tensor(drugData))\n",
    "        h = VAE_mu(h)\n",
    "        h = VAE_decoder[1](VAE_decoder[0](h))\n",
    "    elif useLayer == \"d2\": # Decoder layer 2\n",
    "        h = VAE_encoder(torch.Tensor(drugData))\n",
    "        h = VAE_mu(h)\n",
    "        h = VAE_decoder[1](VAE_decoder[0](h))\n",
    "        h = VAE_decoder[3](VAE_decoder[2](h))\n",
    "    if useLayer != \"r\":\n",
    "        drugData = h.data.numpy()\n",
    "\n",
    "    geneData = expDataGP.data.numpy()\n",
    "    if useLayer == \"e1\":\n",
    "        h = VAE_encoder[1](VAE_encoder[0](torch.Tensor(geneData)))\n",
    "    elif useLayer == \"e2\":\n",
    "        h = VAE_encoder(torch.Tensor(geneData))\n",
    "    elif useLayer == \"e3\":\n",
    "        h = VAE_encoder(torch.Tensor(geneData))\n",
    "        h = VAE_mu(h)\n",
    "    elif useLayer == \"sig\":\n",
    "        h = VAE_encoder(torch.Tensor(geneData))\n",
    "        h = VAE_mu(h)\n",
    "        h = h [:,sigNodeArray]\n",
    "    elif useLayer == \"d1\":\n",
    "        h = VAE_encoder(torch.Tensor(geneData))\n",
    "        h = VAE_mu(h)\n",
    "        h = VAE_decoder[1](VAE_decoder[0](h))\n",
    "    elif useLayer == \"d2\":\n",
    "        h = VAE_encoder(torch.Tensor(geneData))\n",
    "        h = VAE_mu(h)\n",
    "        h = VAE_decoder[1](VAE_decoder[0](h))\n",
    "        h = VAE_decoder[3](VAE_decoder[2](h))\n",
    "    if useLayer != \"r\":\n",
    "        geneData = h.data.numpy()\n",
    "\n",
    "    nbrs = NearestNeighbors(n_neighbors=nNei, algorithm='brute', metric = 'correlation').fit(geneData)\n",
    "    distances, indices = nbrs.kneighbors(drugData)\n",
    "    for i in range(indices.shape[0]):\n",
    "        for j in range(nNei):\n",
    "            ind = indices[i][j]\n",
    "            if cellLinePertGP[ind] in validChemGeneDic[drug]:\n",
    "                indexList.append(j)\n",
    "                break\n",
    "    print(\"Drug:\", drug)\n",
    "    print(\"The number of samples this drug tested on:\", len(indexList))\n",
    "    print(\"The top10 ranks of top ranked target genes:\", sorted(indexList)[:10])\n",
    "    print(\"The mean ranks of top ranked target genes:\", round(np.mean(indexList), 3))\n",
    "    print(\"\")"
   ]
  },
  {
   "cell_type": "code",
   "execution_count": null,
   "metadata": {},
   "outputs": [],
   "source": []
  }
 ],
 "metadata": {
  "kernelspec": {
   "display_name": "Python 2",
   "language": "python",
   "name": "python2"
  },
  "language_info": {
   "codemirror_mode": {
    "name": "ipython",
    "version": 2
   },
   "file_extension": ".py",
   "mimetype": "text/x-python",
   "name": "python",
   "nbconvert_exporter": "python",
   "pygments_lexer": "ipython2",
   "version": "2.7.16"
  }
 },
 "nbformat": 4,
 "nbformat_minor": 4
}
